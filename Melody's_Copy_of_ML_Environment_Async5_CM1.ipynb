{
  "nbformat": 4,
  "nbformat_minor": 0,
  "metadata": {
    "kernelspec": {
      "display_name": "Python 3",
      "language": "python",
      "name": "python3"
    },
    "language_info": {
      "codemirror_mode": {
        "name": "ipython",
        "version": 3
      },
      "file_extension": ".py",
      "mimetype": "text/x-python",
      "name": "python",
      "nbconvert_exporter": "python",
      "pygments_lexer": "ipython3",
      "version": "3.8.3"
    },
    "colab": {
      "name": "Melody's Copy of ML_Environment_Async5_CM1.ipynb",
      "provenance": [],
      "collapsed_sections": [],
      "include_colab_link": true
    }
  },
  "cells": [
    {
      "cell_type": "markdown",
      "metadata": {
        "id": "view-in-github",
        "colab_type": "text"
      },
      "source": [
        "<a href=\"https://colab.research.google.com/github/melodyhe21/Predicting-Potability/blob/main/Melody's_Copy_of_ML_Environment_Async5_CM1.ipynb\" target=\"_parent\"><img src=\"https://colab.research.google.com/assets/colab-badge.svg\" alt=\"Open In Colab\"/></a>"
      ]
    },
    {
      "cell_type": "markdown",
      "metadata": {
        "id": "fos5eHMnOFhG"
      },
      "source": [
        "# Gaining Insight Through Computational Modeling - Async 4\n",
        "## Machine Learning: Environment\n",
        "\n",
        "#### Author - Rachel Calder\n",
        "#### Student - Melody He\n",
        "#### Description - Data visualization is the use of graphs, charts, or other visualizations to explore the data and identify patterns and trends. Through this notebook, we will explore data and create some visualizations to help us understands its patterns and trends. **Save a copy of this notebook to your student folder.**\n",
        "\n",
        "##### *This notebook is written in python computer language. To run a block of code, click on the block, and press the play button.\n",
        "\n",
        "The data used in this notebook is provided by Kaggle. The data was collcted to assess the potability of water. You can learn more about the dataset here: https://www.kaggle.com/adityakadiwal/water-potability\n",
        "\n"
      ]
    },
    {
      "cell_type": "markdown",
      "metadata": {
        "id": "qg2rPxMcOFhI"
      },
      "source": [
        "## Loading Python Libraries\n"
      ]
    },
    {
      "cell_type": "code",
      "metadata": {
        "id": "At-H4aL3OFhJ",
        "colab": {
          "base_uri": "https://localhost:8080/"
        },
        "outputId": "c5249ce6-3470-4595-c28e-8866c94edc5f"
      },
      "source": [
        "## Load necessary libraries\n",
        "\n",
        "#pandas helps us handle data tables\n",
        "#importing pandas as pd means we are giving pandas a short nickname (pd) that is quicker to type\n",
        "import pandas as pd\n",
        "\n",
        "#numpy helps us handle \n",
        "import numpy as np\n",
        "\n",
        "#matplotlib helps us make basic plots\n",
        "import matplotlib.pyplot as plt\n",
        "import matplotlib.patches as patches\n",
        "%matplotlib inline\n",
        "\n",
        "#seaborn helps us make intricate plots\n",
        "import seaborn as sns\n",
        "\n",
        "#import google drive\n",
        "from google.colab import drive\n",
        "\n",
        "#import machine learning packages\n",
        "from sklearn.model_selection import train_test_split\n",
        "from sklearn.linear_model import LogisticRegression\n",
        "from sklearn.metrics import accuracy_score\n",
        "from scipy.stats import zscore\n",
        "\n",
        "#give google colab access to your google drive\n",
        "#click on the link in the output. It will take you to a new page where you will need to give permission to Google Colab to access your Google Drive.\n",
        "#copy the link and paste it into the box below.\n",
        "drive.mount('/content/gdrive')"
      ],
      "execution_count": null,
      "outputs": [
        {
          "output_type": "stream",
          "text": [
            "Mounted at /content/gdrive\n"
          ],
          "name": "stdout"
        }
      ]
    },
    {
      "cell_type": "code",
      "metadata": {
        "id": "YjqszuYEQts6",
        "colab": {
          "base_uri": "https://localhost:8080/"
        },
        "outputId": "13ce279c-d0d0-484f-997b-b77e75a6cef3"
      },
      "source": [
        "#view what folders you now have access to\n",
        "!ls \"/content/gdrive/MyDrive\""
      ],
      "execution_count": null,
      "outputs": [
        {
          "output_type": "stream",
          "text": [
            " 204D0C7A-5CBA-4B63-9D62-D29BFB2C0960.jpeg   colleges.xlsx\n",
            " 973A8405-E9BA-4EB7-9E7F-4366766634BB.jpeg  'dorm essentials.gdoc'\n",
            " CM_Datasets\t\t\t\t     Melody\n",
            "'Colab Notebooks'\t\t\t    'Melody He College 2021.gsheet'\n",
            " colleges.gsheet\t\t\t    'Melody He College 2021.xlsx'\n"
          ],
          "name": "stdout"
        }
      ]
    },
    {
      "cell_type": "markdown",
      "metadata": {
        "id": "nOESjSr9UnZb"
      },
      "source": [
        "# Load Data\n",
        "\n",
        "Note: You will get an error in the next cell if you did not save a shortcut of the \"[CM_Datasets](https://drive.google.com/drive/u/1/folders/1WxSk_jD0x5rVSNiT8bM_58aMtG5Sqf4V)\" folder to your drive. You *may* need to remount your drive to reflect new changes."
      ]
    },
    {
      "cell_type": "code",
      "metadata": {
        "id": "3iRjuz95OFhJ",
        "colab": {
          "base_uri": "https://localhost:8080/",
          "height": 423
        },
        "outputId": "51728e7d-9d95-4bd6-8e21-8b174dea9aec"
      },
      "source": [
        "# Load data\n",
        "\n",
        "#provide the data location\n",
        "filename = '/content/gdrive/MyDrive/CM_Datasets/water_potability.csv'\n",
        "\n",
        "#ask pandas to grab the data from the location and name it as df (short for data frame)\n",
        "df = pd.read_csv(filename)\n",
        "\n",
        "#display dataframe\n",
        "df"
      ],
      "execution_count": null,
      "outputs": [
        {
          "output_type": "execute_result",
          "data": {
            "text/html": [
              "<div>\n",
              "<style scoped>\n",
              "    .dataframe tbody tr th:only-of-type {\n",
              "        vertical-align: middle;\n",
              "    }\n",
              "\n",
              "    .dataframe tbody tr th {\n",
              "        vertical-align: top;\n",
              "    }\n",
              "\n",
              "    .dataframe thead th {\n",
              "        text-align: right;\n",
              "    }\n",
              "</style>\n",
              "<table border=\"1\" class=\"dataframe\">\n",
              "  <thead>\n",
              "    <tr style=\"text-align: right;\">\n",
              "      <th></th>\n",
              "      <th>ph</th>\n",
              "      <th>Hardness</th>\n",
              "      <th>Solids</th>\n",
              "      <th>Chloramines</th>\n",
              "      <th>Sulfate</th>\n",
              "      <th>Conductivity</th>\n",
              "      <th>Organic_carbon</th>\n",
              "      <th>Trihalomethanes</th>\n",
              "      <th>Turbidity</th>\n",
              "      <th>Potability</th>\n",
              "    </tr>\n",
              "  </thead>\n",
              "  <tbody>\n",
              "    <tr>\n",
              "      <th>0</th>\n",
              "      <td>NaN</td>\n",
              "      <td>204.890455</td>\n",
              "      <td>20791.318981</td>\n",
              "      <td>7.300212</td>\n",
              "      <td>368.516441</td>\n",
              "      <td>564.308654</td>\n",
              "      <td>10.379783</td>\n",
              "      <td>86.990970</td>\n",
              "      <td>2.963135</td>\n",
              "      <td>0</td>\n",
              "    </tr>\n",
              "    <tr>\n",
              "      <th>1</th>\n",
              "      <td>3.716080</td>\n",
              "      <td>129.422921</td>\n",
              "      <td>18630.057858</td>\n",
              "      <td>6.635246</td>\n",
              "      <td>NaN</td>\n",
              "      <td>592.885359</td>\n",
              "      <td>15.180013</td>\n",
              "      <td>56.329076</td>\n",
              "      <td>4.500656</td>\n",
              "      <td>0</td>\n",
              "    </tr>\n",
              "    <tr>\n",
              "      <th>2</th>\n",
              "      <td>8.099124</td>\n",
              "      <td>224.236259</td>\n",
              "      <td>19909.541732</td>\n",
              "      <td>9.275884</td>\n",
              "      <td>NaN</td>\n",
              "      <td>418.606213</td>\n",
              "      <td>16.868637</td>\n",
              "      <td>66.420093</td>\n",
              "      <td>3.055934</td>\n",
              "      <td>0</td>\n",
              "    </tr>\n",
              "    <tr>\n",
              "      <th>3</th>\n",
              "      <td>8.316766</td>\n",
              "      <td>214.373394</td>\n",
              "      <td>22018.417441</td>\n",
              "      <td>8.059332</td>\n",
              "      <td>356.886136</td>\n",
              "      <td>363.266516</td>\n",
              "      <td>18.436524</td>\n",
              "      <td>100.341674</td>\n",
              "      <td>4.628771</td>\n",
              "      <td>0</td>\n",
              "    </tr>\n",
              "    <tr>\n",
              "      <th>4</th>\n",
              "      <td>9.092223</td>\n",
              "      <td>181.101509</td>\n",
              "      <td>17978.986339</td>\n",
              "      <td>6.546600</td>\n",
              "      <td>310.135738</td>\n",
              "      <td>398.410813</td>\n",
              "      <td>11.558279</td>\n",
              "      <td>31.997993</td>\n",
              "      <td>4.075075</td>\n",
              "      <td>0</td>\n",
              "    </tr>\n",
              "    <tr>\n",
              "      <th>...</th>\n",
              "      <td>...</td>\n",
              "      <td>...</td>\n",
              "      <td>...</td>\n",
              "      <td>...</td>\n",
              "      <td>...</td>\n",
              "      <td>...</td>\n",
              "      <td>...</td>\n",
              "      <td>...</td>\n",
              "      <td>...</td>\n",
              "      <td>...</td>\n",
              "    </tr>\n",
              "    <tr>\n",
              "      <th>3271</th>\n",
              "      <td>4.668102</td>\n",
              "      <td>193.681735</td>\n",
              "      <td>47580.991603</td>\n",
              "      <td>7.166639</td>\n",
              "      <td>359.948574</td>\n",
              "      <td>526.424171</td>\n",
              "      <td>13.894419</td>\n",
              "      <td>66.687695</td>\n",
              "      <td>4.435821</td>\n",
              "      <td>1</td>\n",
              "    </tr>\n",
              "    <tr>\n",
              "      <th>3272</th>\n",
              "      <td>7.808856</td>\n",
              "      <td>193.553212</td>\n",
              "      <td>17329.802160</td>\n",
              "      <td>8.061362</td>\n",
              "      <td>NaN</td>\n",
              "      <td>392.449580</td>\n",
              "      <td>19.903225</td>\n",
              "      <td>NaN</td>\n",
              "      <td>2.798243</td>\n",
              "      <td>1</td>\n",
              "    </tr>\n",
              "    <tr>\n",
              "      <th>3273</th>\n",
              "      <td>9.419510</td>\n",
              "      <td>175.762646</td>\n",
              "      <td>33155.578218</td>\n",
              "      <td>7.350233</td>\n",
              "      <td>NaN</td>\n",
              "      <td>432.044783</td>\n",
              "      <td>11.039070</td>\n",
              "      <td>69.845400</td>\n",
              "      <td>3.298875</td>\n",
              "      <td>1</td>\n",
              "    </tr>\n",
              "    <tr>\n",
              "      <th>3274</th>\n",
              "      <td>5.126763</td>\n",
              "      <td>230.603758</td>\n",
              "      <td>11983.869376</td>\n",
              "      <td>6.303357</td>\n",
              "      <td>NaN</td>\n",
              "      <td>402.883113</td>\n",
              "      <td>11.168946</td>\n",
              "      <td>77.488213</td>\n",
              "      <td>4.708658</td>\n",
              "      <td>1</td>\n",
              "    </tr>\n",
              "    <tr>\n",
              "      <th>3275</th>\n",
              "      <td>7.874671</td>\n",
              "      <td>195.102299</td>\n",
              "      <td>17404.177061</td>\n",
              "      <td>7.509306</td>\n",
              "      <td>NaN</td>\n",
              "      <td>327.459760</td>\n",
              "      <td>16.140368</td>\n",
              "      <td>78.698446</td>\n",
              "      <td>2.309149</td>\n",
              "      <td>1</td>\n",
              "    </tr>\n",
              "  </tbody>\n",
              "</table>\n",
              "<p>3276 rows × 10 columns</p>\n",
              "</div>"
            ],
            "text/plain": [
              "            ph    Hardness  ...  Turbidity  Potability\n",
              "0          NaN  204.890455  ...   2.963135           0\n",
              "1     3.716080  129.422921  ...   4.500656           0\n",
              "2     8.099124  224.236259  ...   3.055934           0\n",
              "3     8.316766  214.373394  ...   4.628771           0\n",
              "4     9.092223  181.101509  ...   4.075075           0\n",
              "...        ...         ...  ...        ...         ...\n",
              "3271  4.668102  193.681735  ...   4.435821           1\n",
              "3272  7.808856  193.553212  ...   2.798243           1\n",
              "3273  9.419510  175.762646  ...   3.298875           1\n",
              "3274  5.126763  230.603758  ...   4.708658           1\n",
              "3275  7.874671  195.102299  ...   2.309149           1\n",
              "\n",
              "[3276 rows x 10 columns]"
            ]
          },
          "metadata": {
            "tags": []
          },
          "execution_count": 3
        }
      ]
    },
    {
      "cell_type": "code",
      "metadata": {
        "id": "GiTjZgnENTnd",
        "colab": {
          "base_uri": "https://localhost:8080/"
        },
        "outputId": "3f85a3bc-6468-4895-fc3c-d23eb919e8ad"
      },
      "source": [
        "df.dtypes"
      ],
      "execution_count": null,
      "outputs": [
        {
          "output_type": "execute_result",
          "data": {
            "text/plain": [
              "ph                 float64\n",
              "Hardness           float64\n",
              "Solids             float64\n",
              "Chloramines        float64\n",
              "Sulfate            float64\n",
              "Conductivity       float64\n",
              "Organic_carbon     float64\n",
              "Trihalomethanes    float64\n",
              "Turbidity          float64\n",
              "Potability           int64\n",
              "dtype: object"
            ]
          },
          "metadata": {
            "tags": []
          },
          "execution_count": 4
        }
      ]
    },
    {
      "cell_type": "markdown",
      "metadata": {
        "id": "HVUWEFiOkBAT"
      },
      "source": [
        "# Data Cleaning\n",
        "\n",
        "Missing Values"
      ]
    },
    {
      "cell_type": "code",
      "metadata": {
        "id": "s9Vc3cWPkAqD",
        "colab": {
          "base_uri": "https://localhost:8080/"
        },
        "outputId": "c39cb53f-59e6-499f-bfd8-b709e21a731e"
      },
      "source": [
        "#search if there are any missing values in the data set\n",
        "df.isnull().sum().sort_values()"
      ],
      "execution_count": null,
      "outputs": [
        {
          "output_type": "execute_result",
          "data": {
            "text/plain": [
              "Hardness             0\n",
              "Solids               0\n",
              "Chloramines          0\n",
              "Conductivity         0\n",
              "Organic_carbon       0\n",
              "Turbidity            0\n",
              "Potability           0\n",
              "Trihalomethanes    162\n",
              "ph                 491\n",
              "Sulfate            781\n",
              "dtype: int64"
            ]
          },
          "metadata": {
            "tags": []
          },
          "execution_count": 5
        }
      ]
    },
    {
      "cell_type": "markdown",
      "metadata": {
        "id": "LrvLYtnvrPtZ"
      },
      "source": [
        "# Copy over code you used to clean your dataset."
      ]
    },
    {
      "cell_type": "code",
      "metadata": {
        "id": "uzNfpCfLoA3l"
      },
      "source": [
        "#this code below will allow you to drop the columns you do not want.\n",
        "#you need to put the column names in quotes\n",
        "#uncomment the line of code below by deleting the '#' mark\n",
        "\n",
        "df_drop = df.drop([], axis=1) \n",
        "#we are not dropping any of the columns"
      ],
      "execution_count": null,
      "outputs": []
    },
    {
      "cell_type": "code",
      "metadata": {
        "id": "QSImOHrRn5Ba",
        "colab": {
          "base_uri": "https://localhost:8080/"
        },
        "outputId": "669f05a6-b01a-4f77-9204-5d788f01a5ad"
      },
      "source": [
        "#fill in the remaining NaN with the means of each column\n",
        "column_means = df_drop.mean()\n",
        "df_drop = df_drop.fillna(column_means)\n",
        "df_drop.isnull().sum().sort_values()"
      ],
      "execution_count": null,
      "outputs": [
        {
          "output_type": "execute_result",
          "data": {
            "text/plain": [
              "ph                 0\n",
              "Hardness           0\n",
              "Solids             0\n",
              "Chloramines        0\n",
              "Sulfate            0\n",
              "Conductivity       0\n",
              "Organic_carbon     0\n",
              "Trihalomethanes    0\n",
              "Turbidity          0\n",
              "Potability         0\n",
              "dtype: int64"
            ]
          },
          "metadata": {
            "tags": []
          },
          "execution_count": 9
        }
      ]
    },
    {
      "cell_type": "markdown",
      "metadata": {
        "id": "zlcA7wS57u3F"
      },
      "source": [
        "### Once you are satisfied with your dataset make sure it is named df_drop in order for it the next block of code to work"
      ]
    },
    {
      "cell_type": "markdown",
      "metadata": {
        "id": "W5T2Ue4frPtd"
      },
      "source": [
        "#**Machine Learning**\n",
        "\n",
        "Next we will split our data into training and testing sets and their labels"
      ]
    },
    {
      "cell_type": "code",
      "metadata": {
        "id": "JfLnDYuozbBI"
      },
      "source": [
        "#seperate features from label\n",
        "df_drop_x = df_drop[df_drop.columns[0:(len(df_drop.columns)-1)]]\n",
        "df_drop_y = df_drop['Potability']\n",
        "\n",
        "#normalize with z normalization\n",
        "#We are not normalizing the data, but if we were, we would uncomment the code below\n",
        "#df_drop_x_norm = df_drop_x.apply(zscore)\n",
        "\n",
        "#split into training and testing data\n",
        "X_train, X_test, y_train, y_test = train_test_split(df_drop_x, df_drop_y, \n",
        "                                                    test_size = 0.20, random_state = 99)"
      ],
      "execution_count": null,
      "outputs": []
    },
    {
      "cell_type": "markdown",
      "metadata": {
        "id": "Eg7nne9y5xHf"
      },
      "source": [
        "Now it is time to make a [linear regression model](https://en.wikipedia.org/wiki/Linear_regression). We will fit the model to the data. Then we will give the model our testing data and have it make predictions as to what the label option might be: potable or not potable. We will use a package called \"accuracy_score\" to give us the accuracy of our model's predictions against the actual label."
      ]
    },
    {
      "cell_type": "code",
      "metadata": {
        "id": "wlka-cy9rPtd",
        "colab": {
          "base_uri": "https://localhost:8080/",
          "height": 300
        },
        "outputId": "6979bc20-2957-49dc-8f7d-5dfb9445e0a3"
      },
      "source": [
        "#set up logistic regression classifier\n",
        "logmod = LogisticRegression()\n",
        "\n",
        "#fit the classifier to the data\n",
        "logmod.fit(X_train, y_train)\n",
        "\n",
        "#obtain model predictions\n",
        "y_hat = logmod.predict(X_test)\n",
        "\n",
        "#obtain accuracy of model\n",
        "print(\"Accuracy score of logistic regression model: \", accuracy_score(y_test, y_hat))\n",
        "\n",
        "df_drop_y.hist()"
      ],
      "execution_count": null,
      "outputs": [
        {
          "output_type": "stream",
          "text": [
            "Accuracy score of logistic regression model:  0.6234756097560976\n"
          ],
          "name": "stdout"
        },
        {
          "output_type": "execute_result",
          "data": {
            "text/plain": [
              "<matplotlib.axes._subplots.AxesSubplot at 0x7fd680171690>"
            ]
          },
          "metadata": {
            "tags": []
          },
          "execution_count": 12
        },
        {
          "output_type": "display_data",
          "data": {
            "image/png": "[encoded data removed]",
            "text/plain": [
              "<Figure size 432x288 with 1 Axes>"
            ]
          },
          "metadata": {
            "tags": [],
            "needs_background": "light"
          }
        }
      ]
    },
    {
      "cell_type": "markdown",
      "metadata": {
        "id": "5I2eeere4YsL"
      },
      "source": [
        "#Q1\n",
        "\n",
        "What is the accuracy of the logistic regression model?\n",
        "\n",
        "Student Response: 0.6234756097560976\n",
        "\n",
        "#Q2\n",
        "What is this model predicting? The logistic regression model predicts, based on all of the testing data provided, whether the sample is potable or not potable.\n",
        "\n",
        "Student Response: \n",
        "\n",
        "#Q3\n",
        "Is this accuracy acceptable for making predictions or should we try other models as well?\n",
        "\n",
        "Student Response: The accuracy is a little low--0.62 accuracy is not very satisfactory, so I believe that we should try other models besides logistic regression."
      ]
    }
  ]
}